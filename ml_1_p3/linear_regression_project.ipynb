{
 "cells": [
  {
   "cell_type": "code",
   "execution_count": 265,
   "metadata": {
    "collapsed": true
   },
   "outputs": [],
   "source": [
    "# 任意选一个你喜欢的整数，这能帮你得到稳定的结果\n",
    "seed = 7102"
   ]
  },
  {
   "cell_type": "markdown",
   "metadata": {},
   "source": [
    "# 欢迎来到线性回归项目\n",
    "\n",
    "若项目中的题目有困难没完成也没关系，我们鼓励你带着问题提交项目，评审人会给予你诸多帮助。\n",
    "\n",
    "所有选做题都可以不做，不影响项目通过。如果你做了，那么项目评审会帮你批改，也会因为选做部分做错而判定为不通过。\n",
    "\n",
    "其中非代码题可以提交手写后扫描的 pdf 文件，或使用 Latex 在文档中直接回答。"
   ]
  },
  {
   "cell_type": "markdown",
   "metadata": {},
   "source": [
    "# 1 矩阵运算\n",
    "\n",
    "## 1.1 创建一个 4*4 的单位矩阵"
   ]
  },
  {
   "cell_type": "code",
   "execution_count": 266,
   "metadata": {
    "collapsed": true
   },
   "outputs": [],
   "source": [
    "# 这个项目设计来帮你熟悉 python list 和线性代数\n",
    "# 你不能调用任何NumPy以及相关的科学计算库来完成作业\n",
    "\n",
    "\n",
    "# 本项目要求矩阵统一使用二维列表表示，如下：\n",
    "A = [[1,2,3], \n",
    "     [2,3,3], \n",
    "     [1,2,5]]\n",
    "\n",
    "B = [[1,2,3,5], \n",
    "     [2,3,3,5], \n",
    "     [1,2,5,1]]\n",
    "\n",
    "#TODO 创建一个 4*4 单位矩阵\n",
    "def create_unit_matrix(n):\n",
    "    matrix = []\n",
    "    for i in range(n):\n",
    "        row = []\n",
    "        for j in range(4):\n",
    "            col = 0\n",
    "            if i == j:\n",
    "                col = 1\n",
    "            row.append(col)\n",
    "        matrix.append(row)\n",
    "    return matrix\n",
    "\n",
    "I = create_unit_matrix(4)"
   ]
  },
  {
   "cell_type": "markdown",
   "metadata": {},
   "source": [
    "## 1.2 返回矩阵的行数和列数"
   ]
  },
  {
   "cell_type": "code",
   "execution_count": 267,
   "metadata": {
    "collapsed": true
   },
   "outputs": [],
   "source": [
    "# TODO 返回矩阵的行数和列数\n",
    "def shape(M):\n",
    "    n, m = 0,0\n",
    "    if isinstance(M, list):\n",
    "        n = len(M)\n",
    "        if isinstance(M[0], list):\n",
    "            m = len(M[0])\n",
    "        else:\n",
    "            raise ValueError(\"The type of M[0] should be list\")\n",
    "    else:\n",
    "        raise ValueError(\"The type of M should be list\")\n",
    "    return n,m\n"
   ]
  },
  {
   "cell_type": "code",
   "execution_count": 268,
   "metadata": {},
   "outputs": [
    {
     "name": "stderr",
     "output_type": "stream",
     "text": [
      ".\n",
      "----------------------------------------------------------------------\n",
      "Ran 1 test in 0.003s\n",
      "\n",
      "OK\n"
     ]
    },
    {
     "data": {
      "text/plain": [
       "<matplotlib.figure.Figure at 0x1176b5e10>"
      ]
     },
     "metadata": {},
     "output_type": "display_data"
    }
   ],
   "source": [
    "# 运行以下代码测试你的 shape 函数\n",
    "%run -i -e test.py LinearRegressionTestCase.test_shape"
   ]
  },
  {
   "cell_type": "markdown",
   "metadata": {},
   "source": [
    "## 1.3 每个元素四舍五入到特定小数数位"
   ]
  },
  {
   "cell_type": "code",
   "execution_count": 269,
   "metadata": {
    "collapsed": true
   },
   "outputs": [],
   "source": [
    "# TODO 每个元素四舍五入到特定小数数位\n",
    "# 直接修改参数矩阵，无返回值\n",
    "import math\n",
    "import decimal\n",
    "\n",
    "getcontext().prec = 4\n",
    "\n",
    "def matxRound(M, decPts=4):\n",
    "    n,m = shape(M)\n",
    "    \n",
    "    for i in range(0, n):\n",
    "        for j in range(0, m):\n",
    "            x = M[i][j]\n",
    "            M[i][j] = float(Decimal(str(round(x,decPts))))\n",
    "    return M\n"
   ]
  },
  {
   "cell_type": "code",
   "execution_count": 270,
   "metadata": {},
   "outputs": [
    {
     "name": "stderr",
     "output_type": "stream",
     "text": [
      ".\n",
      "----------------------------------------------------------------------\n",
      "Ran 1 test in 0.157s\n",
      "\n",
      "OK\n"
     ]
    }
   ],
   "source": [
    "# 运行以下代码测试你的 matxRound 函数\n",
    "%run -i -e test.py LinearRegressionTestCase.test_matxRound"
   ]
  },
  {
   "cell_type": "markdown",
   "metadata": {},
   "source": [
    "## 1.4 计算矩阵的转置"
   ]
  },
  {
   "cell_type": "code",
   "execution_count": 271,
   "metadata": {
    "collapsed": true
   },
   "outputs": [],
   "source": [
    "# TODO 计算矩阵的转置\n",
    "def transpose(M):\n",
    "    try:\n",
    "        n, m = shape(M)\n",
    "        N = []\n",
    "        for i in range(0, m):\n",
    "            l = []\n",
    "            for j in range(0,n):\n",
    "                l.append(M[j][i])\n",
    "            N.append(l)\n",
    "    except Exception as e:\n",
    "        raise e\n",
    "        \n",
    "    return N\n"
   ]
  },
  {
   "cell_type": "code",
   "execution_count": 272,
   "metadata": {},
   "outputs": [
    {
     "name": "stderr",
     "output_type": "stream",
     "text": [
      ".\n",
      "----------------------------------------------------------------------\n",
      "Ran 1 test in 0.017s\n",
      "\n",
      "OK\n"
     ]
    }
   ],
   "source": [
    "# 运行以下代码测试你的 transpose 函数\n",
    "%run -i -e test.py LinearRegressionTestCase.test_transpose"
   ]
  },
  {
   "cell_type": "markdown",
   "metadata": {},
   "source": [
    "## 1.5 计算矩阵乘法 AB"
   ]
  },
  {
   "cell_type": "code",
   "execution_count": 273,
   "metadata": {
    "collapsed": true
   },
   "outputs": [],
   "source": [
    "# TODO 计算矩阵乘法 AB，如果无法相乘则raise ValueError\n",
    "\n",
    "\n",
    "def matxMultiply(A, B):\n",
    "    matxRound(A,4)\n",
    "    matxRound(B,4)\n",
    "    m, p = shape(A)\n",
    "    q, n = shape(B)\n",
    "    C = []\n",
    "    try:\n",
    "        if m == 0 or p == 0 or q == 0 or n == 0:\n",
    "            raise ValueError(\"the shape result of A or B should not be 0\")            \n",
    "        elif p == q:\n",
    "            for i in range(m):\n",
    "                l = []\n",
    "                for j in range(n):\n",
    "                    s = 0\n",
    "                    for k in range(p):\n",
    "                        s += A[i][k]*B[k][j]\n",
    "                    l.append(s)\n",
    "                C.append(l)\n",
    "            return C\n",
    "        else:\n",
    "            raise ValueError(\"the row of B should be equal to the col of A\")\n",
    "    except Exception as e:\n",
    "        raise e\n",
    "                    \n",
    "            \n",
    "    "
   ]
  },
  {
   "cell_type": "code",
   "execution_count": 274,
   "metadata": {},
   "outputs": [
    {
     "name": "stderr",
     "output_type": "stream",
     "text": [
      ".\n",
      "----------------------------------------------------------------------\n",
      "Ran 1 test in 0.615s\n",
      "\n",
      "OK\n"
     ]
    }
   ],
   "source": [
    "# 运行以下代码测试你的 matxMultiply 函数\n",
    "%run -i -e test.py LinearRegressionTestCase.test_matxMultiply"
   ]
  },
  {
   "cell_type": "markdown",
   "metadata": {},
   "source": [
    "---\n",
    "\n",
    "# 2 Gaussign Jordan 消元法\n",
    "\n",
    "## 2.1 构造增广矩阵\n",
    "\n",
    "$ A = \\begin{bmatrix}\n",
    "    a_{11}    & a_{12} & ... & a_{1n}\\\\\n",
    "    a_{21}    & a_{22} & ... & a_{2n}\\\\\n",
    "    a_{31}    & a_{22} & ... & a_{3n}\\\\\n",
    "    ...    & ... & ... & ...\\\\\n",
    "    a_{n1}    & a_{n2} & ... & a_{nn}\\\\\n",
    "\\end{bmatrix} , b = \\begin{bmatrix}\n",
    "    b_{1}  \\\\\n",
    "    b_{2}  \\\\\n",
    "    b_{3}  \\\\\n",
    "    ...    \\\\\n",
    "    b_{n}  \\\\\n",
    "\\end{bmatrix}$\n",
    "\n",
    "返回 $ Ab = \\begin{bmatrix}\n",
    "    a_{11}    & a_{12} & ... & a_{1n} & b_{1}\\\\\n",
    "    a_{21}    & a_{22} & ... & a_{2n} & b_{2}\\\\\n",
    "    a_{31}    & a_{22} & ... & a_{3n} & b_{3}\\\\\n",
    "    ...    & ... & ... & ...& ...\\\\\n",
    "    a_{n1}    & a_{n2} & ... & a_{nn} & b_{n} \\end{bmatrix}$"
   ]
  },
  {
   "cell_type": "code",
   "execution_count": 275,
   "metadata": {
    "collapsed": true
   },
   "outputs": [],
   "source": [
    "# TODO 构造增广矩阵，假设A，b行数相同\n",
    "import copy\n",
    "\n",
    "def augmentMatrix(A, b):\n",
    "    m, n = shape(A)\n",
    "    s, t = shape(b)\n",
    "    B = []\n",
    "    if m == 0 or n == 0 or s ==0 or t == 0:\n",
    "        raise ValueError(\"The row or col of the A and len of b should not be 0\")\n",
    "\n",
    "    if m == s:\n",
    "        for i in range(m):\n",
    "            l = copy.deepcopy(A[i])\n",
    "            l.append(b[i][0])\n",
    "            B.append(l)\n",
    "        return B\n",
    "    else:\n",
    "        raise ValueError(\"The row of A should be equal to the len of b\")\n",
    "\n"
   ]
  },
  {
   "cell_type": "code",
   "execution_count": 276,
   "metadata": {},
   "outputs": [
    {
     "name": "stderr",
     "output_type": "stream",
     "text": [
      ".\n",
      "----------------------------------------------------------------------\n",
      "Ran 1 test in 0.025s\n",
      "\n",
      "OK\n"
     ]
    }
   ],
   "source": [
    "# 运行以下代码测试你的 augmentMatrix 函数\n",
    "%run -i -e test.py LinearRegressionTestCase.test_augmentMatrix"
   ]
  },
  {
   "cell_type": "markdown",
   "metadata": {},
   "source": [
    "## 2.2 初等行变换\n",
    "- 交换两行\n",
    "- 把某行乘以一个非零常数\n",
    "- 把某行加上另一行的若干倍："
   ]
  },
  {
   "cell_type": "code",
   "execution_count": 277,
   "metadata": {
    "collapsed": true
   },
   "outputs": [],
   "source": [
    "# TODO r1 <---> r2\n",
    "# 直接修改参数矩阵，无返回值\n",
    "\n",
    "def swapRows(M, r1, r2):\n",
    "    m,n = shape(M)    \n",
    "    if m == 0 or n == 0:\n",
    "        raise ValueError(\"The row and col of the M should not be 0\")\n",
    "    temp_row = M[r1]\n",
    "    M[r1] = M[r2]\n",
    "    M[r2] = temp_row\n"
   ]
  },
  {
   "cell_type": "code",
   "execution_count": 278,
   "metadata": {},
   "outputs": [
    {
     "name": "stderr",
     "output_type": "stream",
     "text": [
      ".\n",
      "----------------------------------------------------------------------\n",
      "Ran 1 test in 0.003s\n",
      "\n",
      "OK\n"
     ]
    }
   ],
   "source": [
    "# 运行以下代码测试你的 swapRows 函数\n",
    "%run -i -e test.py LinearRegressionTestCase.test_swapRows"
   ]
  },
  {
   "cell_type": "code",
   "execution_count": 279,
   "metadata": {
    "collapsed": true
   },
   "outputs": [],
   "source": [
    "# TODO r1 <--- r1 * scale\n",
    "# scale为0是非法输入，要求 raise ValueError\n",
    "# 直接修改参数矩阵，无返回值\n",
    "\n",
    "def scaleRow(M, r, scale):\n",
    "    #matxRound(M,16)\n",
    "    m,n = shape(M)\n",
    "    if m == 0 or n == 0:\n",
    "        raise ValueError(\"The row or the col of M should not be 0\")\n",
    "    if r >= m:\n",
    "        raise ValueErrow(\"The r should less than the row of M\")\n",
    "    if scale == 0:\n",
    "        raise ValueError(\"scale should not be 0\")\n",
    "    for i in range(n):\n",
    "        M[r][i] = scale*M[r][i]\n"
   ]
  },
  {
   "cell_type": "code",
   "execution_count": 280,
   "metadata": {},
   "outputs": [
    {
     "name": "stderr",
     "output_type": "stream",
     "text": [
      ".\n",
      "----------------------------------------------------------------------\n",
      "Ran 1 test in 0.003s\n",
      "\n",
      "OK\n"
     ]
    }
   ],
   "source": [
    "# 运行以下代码测试你的 scaleRow 函数\n",
    "%run -i -e test.py LinearRegressionTestCase.test_scaleRow"
   ]
  },
  {
   "cell_type": "code",
   "execution_count": 281,
   "metadata": {
    "collapsed": true
   },
   "outputs": [],
   "source": [
    "# TODO r1 <--- r1 + r2*scale\n",
    "# 直接修改参数矩阵，无返回值\n",
    "\n",
    "def addScaledRow(M, r1, r2, scale):\n",
    "    #matxRound(M, decPts=4)\n",
    "    m,n = shape(M)\n",
    "    if m == 0 or n == 0:\n",
    "        raise ValueError(\"The row or the col of M should not be 0\")\n",
    "    if r1 >= m or r2 >= m:\n",
    "        raise ValueErrow(\"r1 or r2 should less than the row of M\")\n",
    "    if scale == 0:\n",
    "        raise ValueError(\"scale should not be 0\")\n",
    "    for i in range(n):\n",
    "        M[r1][i] = M[r2][i]*scale +M[r1][i]\n"
   ]
  },
  {
   "cell_type": "code",
   "execution_count": 282,
   "metadata": {},
   "outputs": [
    {
     "name": "stderr",
     "output_type": "stream",
     "text": [
      ".\n",
      "----------------------------------------------------------------------\n",
      "Ran 1 test in 0.003s\n",
      "\n",
      "OK\n"
     ]
    }
   ],
   "source": [
    "# 运行以下代码测试你的 addScaledRow 函数\n",
    "%run -i -e test.py LinearRegressionTestCase.test_addScaledRow"
   ]
  },
  {
   "cell_type": "markdown",
   "metadata": {},
   "source": [
    "## 2.3  Gaussian Jordan 消元法求解 Ax = b"
   ]
  },
  {
   "cell_type": "markdown",
   "metadata": {},
   "source": [
    "### 2.3.1 算法\n",
    "\n",
    "步骤1 检查A，b是否行数相同\n",
    "\n",
    "步骤2 构造增广矩阵Ab\n",
    "\n",
    "步骤3 逐列转换Ab为化简行阶梯形矩阵 [中文维基链接](https://zh.wikipedia.org/wiki/%E9%98%B6%E6%A2%AF%E5%BD%A2%E7%9F%A9%E9%98%B5#.E5.8C.96.E7.AE.80.E5.90.8E.E7.9A.84-.7Bzh-hans:.E8.A1.8C.3B_zh-hant:.E5.88.97.3B.7D-.E9.98.B6.E6.A2.AF.E5.BD.A2.E7.9F.A9.E9.98.B5)\n",
    "    \n",
    "    对于Ab的每一列（最后一列除外）\n",
    "        当前列为列c\n",
    "        寻找列c中 对角线以及对角线以下所有元素（行 c~N）的绝对值的最大值\n",
    "        如果绝对值最大值为0\n",
    "            那么A为奇异矩阵，返回None (你可以在选做问题2.4中证明为什么这里A一定是奇异矩阵)\n",
    "        否则\n",
    "            使用第一个行变换，将绝对值最大值所在行交换到对角线元素所在行（行c） \n",
    "            使用第二个行变换，将列c的对角线元素缩放为1\n",
    "            多次使用第三个行变换，将列c的其他元素消为0\n",
    "            \n",
    "步骤4 返回Ab的最后一列\n",
    "\n",
    "**注：** 我们并没有按照常规方法先把矩阵转化为行阶梯形矩阵，再转换为化简行阶梯形矩阵，而是一步到位。如果你熟悉常规方法的话，可以思考一下两者的等价性。"
   ]
  },
  {
   "cell_type": "markdown",
   "metadata": {},
   "source": [
    "### 2.3.2 算法推演\n",
    "\n",
    "为了充分了解Gaussian Jordan消元法的计算流程，请根据Gaussian Jordan消元法，分别手动推演矩阵A为***可逆矩阵***，矩阵A为***奇异矩阵***两种情况。"
   ]
  },
  {
   "cell_type": "code",
   "execution_count": 283,
   "metadata": {},
   "outputs": [
    {
     "name": "stdout",
     "output_type": "stream",
     "text": [
      "   0,  -2,  -7,   2 ||  1  \n",
      "  -2,   1,  -7,  -1 ||  1  \n",
      "  -3,   3,   1,   1 ||  1  \n",
      "  -1,   2,  -2,   6 ||  1  \n"
     ]
    }
   ],
   "source": [
    "# 不要修改这里！\n",
    "from helper import *\n",
    "\n",
    "A = generateMatrix(4,seed,singular=False)\n",
    "b = np.ones(shape=(4,1)) # it doesn't matter\n",
    "Ab = augmentMatrix(A.tolist(),b.tolist()) # please make sure you already correct implement augmentMatrix\n",
    "printInMatrixFormat(Ab,padding=4,truncating=0)"
   ]
  },
  {
   "cell_type": "markdown",
   "metadata": {},
   "source": [
    "请按照算法的步骤3，逐步推演***可逆矩阵***的变换。\n",
    "在下面列出每一次循环体执行之后的增广矩阵。\n",
    "\n",
    "\n",
    "1. 当前列为第0列： \n",
    "   1) 寻找列0中 对角线以及对角线以下所有元素（行 0~3）的绝对值的最大值 \n",
    "   2) 第2行的第0列绝对值最大, swapRows(Ab, 0, 2)\n",
    "   3) 将第0列第0行的元素缩放为1，scaleRow(Ab, 0, $-\\frac{1}{3}$)   \n",
    "   4) 将第0行以下其它行的第0列元素消为0：\n",
    "       . 将第0列第1行的元素消为0，addScaledRow(Ab, 1, 0, 2)\n",
    "       . 将第0列第3行的元素消为0，addScaledRow(Ab, 3, 0, 1)\n",
    "       \n",
    "   以上操作结束后 $ Ab = \\begin{bmatrix}\n",
    "                        1.000 & -1.000 & -0.333 & -0.333 & -0.333\\\\\n",
    "                        0 & -1.000 & -7.667 & -1.667 & 0.333\\\\\n",
    "                        0 & -2.000 & -7.000 & 2.000 & 1.000\\\\\n",
    "                        0 & 1.000 & -2.333 & 5.667 & 0.667\\end{bmatrix} $\n",
    "   \n",
    "2. 当前列为第1列：\n",
    "   1）寻找列1中 对角线以及对角线以下所有元素（行 1~3）的绝对值的最大值\n",
    "   2）第2行的第1列绝对值最大, swapRows(Ab, 1, 2)\n",
    "   3）将第1列第1行的元素缩放为1，scaleRow(Ab, 1, $-\\frac{1}{2}$)\n",
    "   4）将第1行以下其它行的第1列元素消为0：\n",
    "       . 将第1列第2行的元素消为0，addScaledRow(Ab, 0, 1, 1)\n",
    "       . 将第1列第2行的元素消为0，addScaledRow(Ab, 2, 1, 1)\n",
    "       . 将第1列第3行的元素消为0，addScaledRow(Ab, 3, 1, -1)\n",
    "   以上操作结束后，$ Ab = \\begin{bmatrix}\n",
    "                        1.000 & 0 & 3.1667 & -1.333 & -0.8333\\\\\n",
    "                        0 & 1.000 & 3.500 & -1.000 & -0.500\\\\\n",
    "                        0 & 0 & -4.167 & -2.667 & -0.167\\\\\n",
    "                        0 & 0 & -5.833 & 6.667 & 1.167\\end{bmatrix} $\n",
    "\n",
    "3. 当前列为第2列：\n",
    "   1）寻找列2中 对角线以及对角线以下所有元素（行 2~3）的绝对值的最大值\n",
    "   2）第3行的第2列绝对值最大, swapRows(Ab, 2, 3)\n",
    "   3）将第2列第2行的元素缩放为1，scaleRow(Ab, 2, $-\\frac{1}{5.833}$)\n",
    "   4）将第2行以下其它行的第2列元素消为0：\n",
    "       . 将第2列第0行的元素消为0，addScaledRow(Ab, 0, 2, -3.1667)\n",
    "       . 将第2列第1行的元素消为0，addScaledRow(Ab, 1, 2, -3.500)\n",
    "       . 将第2列第3行的元素消为0，addScaledRow(Ab, 3, 2, 4.167)\n",
    "       \n",
    "   以上操作结束后，$ Ab = \\begin{bmatrix}\n",
    "                        1.000 & 0 & 0 & 2.2857 & -0.2000\\\\\n",
    "                        0 & 1.000 & 0 & 3.0 & 0.2000\\\\\n",
    "                        0 & 0 & 1.000 & -1.143 & -0.200\\\\\n",
    "                        0 & 0 & 0 & -7.429 & -1.000\\end{bmatrix} $\n",
    "\n",
    "4. 当前列为第3列：\n",
    "   1）寻找列3中 对角线以及对角线以下所有元素（行 3~3）的绝对值的最大值\n",
    "   2）第3行的第3列绝对值最大, 不用变换\n",
    "   3）将第3列第3行的元素缩放为1，scaleRow(Ab, 3, $-\\frac{1}{7.429}$)\n",
    "   4）将第3行以下其它行的第2列元素消为0：\n",
    "       . 将第3列第0行的元素消为0，addScaledRow(Ab, 0, 3, -2.2857)\n",
    "       . 将第3列第1行的元素消为0，addScaledRow(Ab, 1, 3, -3.0)\n",
    "       . 将第3列第2行的元素消为0，addScaledRow(Ab, 2, 3, 1.143)\n",
    "   以上操作结束后，$ Ab = \\begin{bmatrix}\n",
    "                        1.000 & -1.000 & 0 & 0 & -0.5077\\\\\n",
    "                        0 & 1.000 & 0 & 0 & -0.2038\\\\\n",
    "                        0 & 0 & 1.000 & 0 & -0.046\\\\\n",
    "                        0 & 0 & 0 & 1.000 & 0.1346\\end{bmatrix} $\n",
    "\n",
    "\n",
    "\n",
    "\n",
    "\n",
    "\n",
    "\n",
    "要求：\n",
    "1. 做分数运算\n",
    "2. 使用`\\frac{n}{m}`来渲染分数，如下：\n",
    " - $\\frac{n}{m}$\n",
    " - $-\\frac{a}{b}$\n",
    "\n",
    "增广矩阵\n",
    "$ Ab = \\begin{bmatrix}\n",
    "    0 & 0 & 0 & 0 & 0\\\\\n",
    "    0 & 0 & 0 & 0 & 0\\\\\n",
    "    0 & 0 & 0 & 0 & 0\\\\\n",
    "    0 & 0 & 0 & 0 & 0\\end{bmatrix}$\n",
    "\n",
    "$ --> \\begin{bmatrix}\n",
    "    0 & 0 & 0 & 0 & 0\\\\\n",
    "    0 & 0 & 0 & 0 & 0\\\\\n",
    "    0 & 0 & 0 & 0 & 0\\\\\n",
    "    0 & 0 & 0 & 0 & 0\\end{bmatrix}$\n",
    "    \n",
    "$ --> \\begin{bmatrix}\n",
    "    0 & 0 & 0 & 0 & 0\\\\\n",
    "    0 & 0 & 0 & 0 & 0\\\\\n",
    "    0 & 0 & 0 & 0 & 0\\\\\n",
    "    0 & 0 & 0 & 0 & 0\\end{bmatrix}$\n",
    "    \n",
    "$...$"
   ]
  },
  {
   "cell_type": "code",
   "execution_count": 284,
   "metadata": {},
   "outputs": [
    {
     "name": "stdout",
     "output_type": "stream",
     "text": [
      "   6,  -2,   0,  -2 ||  1  \n",
      "  -4, -10,   9,   0 ||  1  \n",
      "   7,  -2,   1,  -3 ||  1  \n",
      "  -5,  -1,  -8,   7 ||  1  \n"
     ]
    }
   ],
   "source": [
    "# 不要修改这里！\n",
    "A = generateMatrix(4,seed,singular=True)\n",
    "b = np.ones(shape=(4,1)) # it doesn't matter\n",
    "Ab = augmentMatrix(A.tolist(),b.tolist()) # please make sure you already correct implement augmentMatrix\n",
    "printInMatrixFormat(Ab,padding=4,truncating=0)"
   ]
  },
  {
   "cell_type": "markdown",
   "metadata": {},
   "source": [
    "请按照算法的步骤3，逐步推演***奇异矩阵***的变换。\n",
    "\n",
    "在下面列出每一次循环体执行之后的增广矩阵。\n",
    "\n",
    "1. 当前列为第0列： \n",
    "   1) 寻找列0中 对角线以及对角线以下所有元素（行 0~3）的绝对值的最大值 \n",
    "   2) 第2行的第0列绝对值最大, swapRows(Ab, 0, 2)\n",
    "   3) 将第0列第0行的元素缩放为1，scaleRow(Ab, 0, $\\frac{1}{7}$)   \n",
    "   4) 将第0行以下其它行的第0列元素消为0：\n",
    "       . 将第0列第1行的元素消为0，addScaledRow(Ab, 1, 0, 4)\n",
    "       . 将第0列第2行的元素消为0，addScaledRow(Ab, 2, 0, -6)\n",
    "       . 将第0列第2行的元素消为0，addScaledRow(Ab, 3, 0, -5)\n",
    "   以上操作结束后 $ Ab = \\begin{bmatrix}\n",
    "                        1.000 & -0.286 & -0.143 & -0.429 & 0.143\\\\\n",
    "                        0 & -11.143 & 9.571 & -1.714 & 1.571\\\\\n",
    "                        0 & -0.286 & -0.857 & 0.571 & 0.142\\\\\n",
    "                        0 & -2.429 & -7.286 & 4.857 & 1.714\\end{bmatrix} $\n",
    "   \n",
    "2. 当前列为第1列：\n",
    "   1）寻找列1中 对角线以及对角线以下所有元素（行 1~3）的绝对值的最大值\n",
    "   2）第2行的第2列绝对值最大, 不用交换\n",
    "   3）将第1列第1行的元素缩放为1，scaleRow(Ab, 1, $-\\frac{1}{11.143}$)\n",
    "   4）将第1行以下其它行的第1列元素消为0：\n",
    "       . 将第1列第0行的元素消为0，addScaledRow(Ab, 0, 1, 0.2859)\n",
    "       . 将第1列第2行的元素消为0，addScaledRow(Ab, 2, 1, 0.2859)\n",
    "       . 将第1列第3行的元素消为0，addScaledRow(Ab, 3, 1, 2.4289)\n",
    "   以上操作结束后，$ Ab = \\begin{bmatrix}\n",
    "                        1.000 & 0 & -0.1026 & -0.3846 & 0.1026\\\\\n",
    "                        0 & 1.000 & -0.859 & 0.154 & -0.141\\\\\n",
    "                        0 & 0 & -1.103 & 0.615 & 0.103\\\\\n",
    "                        0 & 0 & -9.372 & 5.231 & 1.372\\end{bmatrix} $                      \n",
    "                        \n",
    "3. 当前列为第2列：\n",
    "   1）寻找列2中 对角线以及对角线以下所有元素（行 2~3）的绝对值的最大值\n",
    "   2）第3行的第2列绝对值最大, swapRows(Ab, 2, 3)\n",
    "   3）将第2列第2行的元素缩放为1，scaleRow(Ab, 2, $-\\frac{1}{9.372}$)\n",
    "   4）将第2行以下其它行的第2列元素消为0：\n",
    "       . 将第2列第0行的元素消为0，addScaledRow(Ab, 0, 2, 0.1026)\n",
    "       . 将第2列第1行的元素消为0，addScaledRow(Ab, 1, 2, 0.859)\n",
    "       . 将第2列第3行的元素消为0，addScaledRow(Ab, 3, 2, 1.1029)\n",
    "\n",
    "   以上操作结束后，$ Ab = \\begin{bmatrix}\n",
    "                        1.000 & 0 & 0 & -0.4419 & 0.087\\\\\n",
    "                        0 & 1.000 & 0 & -0.3256 & -0.2668\\\\\n",
    "                        0 & 0 & 1.000 & -0.558 & -0.146\\\\\n",
    "                        0 & 0 & 0 & 0 & -0.059\\end{bmatrix} $\n",
    "                        \n",
    "                      \n",
    "\n",
    "4. 当前列为第3列：\n",
    "   1）寻找列3中 对角线以及对角线以下所有元素（行 3~3）的绝对值的最大值\n",
    "   2）第3行的第3列绝对为0\n",
    "\n",
    "   \n",
    "   以上操作结束后，$ Ab = \\begin{bmatrix}\n",
    "                       1.000 & 0 & 0 & -0.4419 & 0.087\\\\\n",
    "                        0 & 1.000 & 0 & -0.3256 & -0.2668\\\\\n",
    "                        0 & 0 & 1.000 & -0.558 & -0.146\\\\\n",
    "                        0 & 0 & 0 & 0 & -0.059\\end{bmatrix} $\n",
    "\n",
    "\n",
    "\n",
    "要求：\n",
    "1. 做分数运算\n",
    "2. 使用`\\frac{n}{m}`来渲染分数，如下：\n",
    " - $\\frac{n}{m}$\n",
    " - $-\\frac{a}{b}$\n",
    "\n",
    "增广矩阵\n",
    "$ Ab = \\begin{bmatrix}\n",
    "    0 & 0 & 0 & 0 & 0\\\\\n",
    "    0 & 0 & 0 & 0 & 0\\\\\n",
    "    0 & 0 & 0 & 0 & 0\\\\\n",
    "    0 & 0 & 0 & 0 & 0\\end{bmatrix}$\n",
    "\n",
    "$ --> \\begin{bmatrix}\n",
    "    0 & 0 & 0 & 0 & 0\\\\\n",
    "    0 & 0 & 0 & 0 & 0\\\\\n",
    "    0 & 0 & 0 & 0 & 0\\\\\n",
    "    0 & 0 & 0 & 0 & 0\\end{bmatrix}$\n",
    "    \n",
    "$ --> \\begin{bmatrix}\n",
    "    0 & 0 & 0 & 0 & 0\\\\\n",
    "    0 & 0 & 0 & 0 & 0\\\\\n",
    "    0 & 0 & 0 & 0 & 0\\\\\n",
    "    0 & 0 & 0 & 0 & 0\\end{bmatrix}$\n",
    "    \n",
    "$...$"
   ]
  },
  {
   "cell_type": "markdown",
   "metadata": {},
   "source": [
    "### 2.3.3 实现 Gaussian Jordan 消元法"
   ]
  },
  {
   "cell_type": "code",
   "execution_count": 285,
   "metadata": {
    "collapsed": true
   },
   "outputs": [],
   "source": [
    "# TODO 实现 Gaussain Jordan 方法求解 Ax = b\n",
    "\n",
    "\"\"\" Gaussian Jordan 方法求解 Ax = b.\n",
    "    参数\n",
    "        A: 方阵 \n",
    "        b: 列向量\n",
    "        decPts: 四舍五入位数，默认为4\n",
    "        epsilon: 判读是否为0的阈值，默认 1.0e-16\n",
    "        \n",
    "    返回列向量 x 使得 Ax = b \n",
    "    返回None，如果 A，b 高度不同\n",
    "    返回None，如果 A 为奇异矩阵\n",
    "\"\"\"\n",
    "\n",
    "\n",
    "def gj_Solve(A, b, decPts=4, epsilon = 1.0e-16):\n",
    "    if shape(A)[0] != shape(b)[0]:\n",
    "        return None\n",
    "    B = augmentMatrix(A,b)\n",
    "    row, col = shape(B)\n",
    "\n",
    "    for i in range(col-1):\n",
    "        #找到i列对角线上绝对值最大的行，如果不是第i行，则与第i行互换\n",
    "        max_abs_coefficient_row = i\n",
    "        for j in range(i+1, row):\n",
    "            if abs(B[j][i]) > abs(B[max_abs_coefficient_row][i]):\n",
    "                max_abs_coefficient_row = j\n",
    "        if abs(B[max_abs_coefficient_row][i]) < epsilon:\n",
    "               return None\n",
    "        if max_abs_coefficient_row != i:\n",
    "            swapRows(B, i, max_abs_coefficient_row)\n",
    "        \n",
    "        #将第i列第i行的元素缩放为1，scaleRow(Ab, 2, $-\\frac{1}{9.372}$)\n",
    "        if abs(B[i][i] - 1) > epsilon:\n",
    "            scaleRow(B, i, 1.0/B[i][i])\n",
    "        \n",
    "        #将第i行以外其它行的第1列元素消为0：\n",
    "        for k in range(0, row):\n",
    "            if abs(B[k][i]) > epsilon and k != i:\n",
    "                addScaledRow(B, k, i, (-1.0)*B[k][i])\n",
    "\n",
    "    x = []   \n",
    "    for i in range(row):\n",
    "        l =[]       \n",
    "        l.append(B[i][col-1])\n",
    "        x.append(l)\n",
    "\n",
    "    return x\n",
    "\n",
    "\n"
   ]
  },
  {
   "cell_type": "code",
   "execution_count": 286,
   "metadata": {},
   "outputs": [
    {
     "name": "stderr",
     "output_type": "stream",
     "text": [
      ".\n",
      "----------------------------------------------------------------------\n",
      "Ran 1 test in 5.564s\n",
      "\n",
      "OK\n"
     ]
    }
   ],
   "source": [
    "# 运行以下代码测试你的 gj_Solve 函数\n",
    "%run -i -e test.py LinearRegressionTestCase.test_gj_Solve"
   ]
  },
  {
   "cell_type": "markdown",
   "metadata": {},
   "source": [
    "## (选做) 2.4 算法正确判断了奇异矩阵：\n",
    "\n",
    "在算法的步骤3 中，如果发现某一列对角线和对角线以下所有元素都为0，那么则断定这个矩阵为奇异矩阵。\n",
    "\n",
    "我们用正式的语言描述这个命题，并证明为真。\n",
    "\n",
    "证明下面的命题：\n",
    "\n",
    "**如果方阵 A 可以被分为4个部分: ** \n",
    "\n",
    "$ A = \\begin{bmatrix}\n",
    "    I    & X \\\\\n",
    "    Z    & Y \\\\\n",
    "\\end{bmatrix} , \\text{其中 I 为单位矩阵，Z 为全0矩阵，Y 的第一列全0}$，\n",
    "\n",
    "**那么A为奇异矩阵。**\n",
    "\n",
    "提示：从多种角度都可以完成证明\n",
    "- 考虑矩阵 Y 和 矩阵 A 的秩\n",
    "- 考虑矩阵 Y 和 矩阵 A 的行列式\n",
    "- 考虑矩阵 A 的某一列是其他列的线性组合"
   ]
  },
  {
   "cell_type": "markdown",
   "metadata": {},
   "source": [
    "TODO 证明："
   ]
  },
  {
   "cell_type": "markdown",
   "metadata": {},
   "source": [
    "# 3  线性回归"
   ]
  },
  {
   "cell_type": "markdown",
   "metadata": {},
   "source": [
    "## 3.1 随机生成样本点"
   ]
  },
  {
   "cell_type": "code",
   "execution_count": 287,
   "metadata": {},
   "outputs": [
    {
     "data": {
      "image/png": "[encoded data removed]",
      "text/plain": [
       "<matplotlib.figure.Figure at 0x1178d58d0>"
      ]
     },
     "metadata": {},
     "output_type": "display_data"
    }
   ],
   "source": [
    "# 不要修改这里！\n",
    "# 运行一次就够了！s\n",
    "from helper import *\n",
    "from matplotlib import pyplot as plt\n",
    "%matplotlib inline\n",
    "\n",
    "X,Y = generatePoints(num=100)\n",
    "\n",
    "## 可视化\n",
    "plt.xlim((-5,5))\n",
    "plt.xlabel('x',fontsize=18)\n",
    "plt.ylabel('y',fontsize=18)\n",
    "plt.scatter(X,Y,c='b')\n",
    "plt.show()"
   ]
  },
  {
   "cell_type": "markdown",
   "metadata": {},
   "source": [
    "## 3.2 拟合一条直线\n",
    "\n",
    "### 3.2.1 猜测一条直线"
   ]
  },
  {
   "cell_type": "code",
   "execution_count": 294,
   "metadata": {},
   "outputs": [
    {
     "data": {
      "image/png": "[encoded data removed]",
      "text/plain": [
       "<matplotlib.figure.Figure at 0x1172a4990>"
      ]
     },
     "metadata": {},
     "output_type": "display_data"
    }
   ],
   "source": [
    "#TODO 请选择最适合的直线 y = mx + b\n",
    "m = 2.5\n",
    "b = 7\n",
    "\n",
    "# 不要修改这里！\n",
    "plt.xlim((-5,5))\n",
    "x_vals = plt.axes().get_xlim()\n",
    "y_vals = [m*x+b for x in x_vals]\n",
    "plt.plot(x_vals, y_vals, '-', color='r')\n",
    "\n",
    "plt.xlabel('x',fontsize=18)\n",
    "plt.ylabel('y',fontsize=18)\n",
    "plt.scatter(X,Y,c='b')\n",
    "\n",
    "plt.show()"
   ]
  },
  {
   "cell_type": "markdown",
   "metadata": {},
   "source": [
    "### 3.2.2 计算平均平方误差 (MSE)"
   ]
  },
  {
   "cell_type": "markdown",
   "metadata": {
    "collapsed": true
   },
   "source": [
    "我们要编程计算所选直线的平均平方误差(MSE), 即数据集中每个点到直线的Y方向距离的平方的平均数，表达式如下：\n",
    "$$\n",
    "MSE = \\frac{1}{n}\\sum_{i=1}^{n}{(y_i - mx_i - b)^2}\n",
    "$$"
   ]
  },
  {
   "cell_type": "code",
   "execution_count": 295,
   "metadata": {},
   "outputs": [
    {
     "name": "stdout",
     "output_type": "stream",
     "text": [
      "0.941350715568\n"
     ]
    }
   ],
   "source": [
    "# TODO 实现以下函数并输出所选直线的MSE\n",
    "m = 2.5\n",
    "b = 7\n",
    "def calculateMSE(X,Y,m,b):\n",
    "    n = len(X)\n",
    "    MSE = 0\n",
    "    l = [(y -m*x -b)**2 for x, y in zip(X, Y)]\n",
    "    for i in range(n):\n",
    "        MSE += l[i]\n",
    "    MSE = MSE*1.0/n\n",
    "\n",
    "    return MSE\n",
    "\n",
    "print(calculateMSE(X,Y,m,b))"
   ]
  },
  {
   "cell_type": "markdown",
   "metadata": {},
   "source": [
    "### 3.2.3 调整参数 $m, b$ 来获得最小的平方平均误差\n",
    "\n",
    "你可以调整3.2.1中的参数 $m,b$ 让蓝点均匀覆盖在红线周围，然后微调 $m, b$ 让MSE最小。"
   ]
  },
  {
   "cell_type": "code",
   "execution_count": 296,
   "metadata": {},
   "outputs": [
    {
     "name": "stdout",
     "output_type": "stream",
     "text": [
      "0.823675942434\n"
     ]
    }
   ],
   "source": [
    "m= 2.3\n",
    "b= 6.7\n",
    "print(calculateMSE(X,Y,m,b))"
   ]
  },
  {
   "cell_type": "markdown",
   "metadata": {},
   "source": [
    "## 3.3 (选做) 找到参数 $m, b$ 使得平方平均误差最小\n",
    "\n",
    "**这一部分需要简单的微积分知识(  $ (x^2)' = 2x $ )。因为这是一个线性代数项目，所以设为选做。**\n",
    "\n",
    "刚刚我们手动调节参数，尝试找到最小的平方平均误差。下面我们要精确得求解 $m, b$ 使得平方平均误差最小。\n",
    "\n",
    "定义目标函数 $E$ 为\n",
    "$$\n",
    "E = \\frac{1}{2}\\sum_{i=1}^{n}{(y_i - mx_i - b)^2}\n",
    "$$\n",
    "\n",
    "因为 $E = \\frac{n}{2}MSE$, 所以 $E$ 取到最小值时，$MSE$ 也取到最小值。要找到 $E$ 的最小值，即要找到 $m, b$ 使得 $E$ 相对于 $m$, $E$ 相对于 $b$ 的偏导数等于0. \n",
    "\n",
    "因此我们要解下面的方程组。\n",
    "\n",
    "$$\n",
    "\\begin{cases}\n",
    "\\displaystyle\n",
    "\\frac{\\partial E}{\\partial m} =0 \\\\\n",
    "\\\\\n",
    "\\displaystyle\n",
    "\\frac{\\partial E}{\\partial b} =0 \\\\\n",
    "\\end{cases}\n",
    "$$\n",
    "\n",
    "### 3.3.1 计算目标函数相对于参数的导数\n",
    "首先我们计算两个式子左边的值\n",
    "\n",
    "证明/计算：\n",
    "$$\n",
    "\\frac{\\partial E}{\\partial m} = \\sum_{i=1}^{n}{-x_i(y_i - mx_i - b)}\n",
    "$$\n",
    "\n",
    "$$\n",
    "\\frac{\\partial E}{\\partial b} = \\sum_{i=1}^{n}{-(y_i - mx_i - b)}\n",
    "$$"
   ]
  },
  {
   "cell_type": "markdown",
   "metadata": {},
   "source": [
    "TODO 证明:\n",
    "\n",
    "$$  \\frac{\\partial E}{\\partial m} = \\lim_{\\Delta m \\to 0} {\\frac{1}{2} \\sum_{i=1}^{n}{\\frac{(y_i-x_i(m+\\Delta m) -b)^2 -(y_i-xim -b)^2}{\\Delta m} }} = \\lim_{\\Delta m \\to 0} {\\frac{1}{2} \\sum_{i=1}^{n}{\\frac{(2y_i-2x_im -2b -x_i \\Delta m)(-x_i\\Delta m)}{\\Delta m} }} =  \\lim_{\\Delta m \\to 0} {\\frac{1}{2} \\sum_{i=1}^{n}{(2y_i-2x_im -2b -x_i \\Delta m)(-x_i)} } = \\lim_{\\Delta m \\to 0} { \\sum_{i=1}^{n}{(y_i-x_im -b -\\frac{1}{2}x_i \\Delta m)(-x_i)} } = \\sum_{i=1}^{n}{(y_i-x_im -b)(-x_i)} = \\sum_{i=1}^{n} {-x_i(y_i-x_im -b)}  $$ \n",
    "\n",
    "\n",
    "$$ \\frac{\\partial E}{\\partial b} = \\lim_{\\Delta b \\to 0}{\\frac{1}{2} \\sum_{i=1}^{n}{\\frac{(y_i-mx_i -(b+\\Delta b))^2 -(y_i-mx_i -b)^2}{\\Delta b}}} = \\lim_{\\Delta b \\to 0}{\\frac{1}{2} \\sum_{i=1}^{n}{\\frac{(2y_i-2mx_i -2b - \\Delta b)(-\\Delta b)}{\\Delta b}}} = \\lim_{\\Delta b \\to 0}{ \\sum_{i=1}^{n}{-(y_i-mx_i -b -\\frac{1}{2}\\Delta b)}} = \\sum_{i=1}^{n}{-(y_i-mx_i -b) } \n",
    "$$"
   ]
  },
  {
   "cell_type": "markdown",
   "metadata": {},
   "source": [
    "### 3.3.2 实例推演\n",
    "\n",
    "现在我们有了一个二元二次方程组\n",
    "\n",
    "$$\n",
    "\\begin{cases}\n",
    "\\displaystyle\n",
    "\\sum_{i=1}^{n}{-x_i(y_i - mx_i - b)} =0 \\\\\n",
    "\\\\\n",
    "\\displaystyle\n",
    "\\sum_{i=1}^{n}{-(y_i - mx_i - b)} =0 \\\\\n",
    "\\end{cases}\n",
    "$$\n",
    "\n",
    "为了加强理解，我们用一个实际例子演练。\n",
    "\n",
    "我们要用三个点 $(1,1), (2,2), (3,2)$ 来拟合一条直线 y = m*x + b, 请写出\n",
    "\n",
    "- 目标函数 $E$, \n",
    "- 二元二次方程组，\n",
    "- 并求解最优参数 $m, b$"
   ]
  },
  {
   "cell_type": "markdown",
   "metadata": {},
   "source": [
    "TODO 写出目标函数，方程组和最优参数\n",
    "\n",
    "目标函数：\n",
    "$$\n",
    "E = \\frac{1}{2}\\sum_{i=1}^{n}{(y_i - mx_i - b)^2} = \\frac{1}{2}((1-m-b)^2 + (2-2m -b)^2 +(2-3m -b)^2)\n",
    "$$\n",
    "\n",
    "二元二次方程组：\n",
    "$$ \\begin{cases}\n",
    "    (-1)(1-m-b) + (-2)(2-2m-b)+(-3)(2-3m -b) =0 \\\\\n",
    "    -(1-m-b)-(2-2m-b)-(2-3m-b) = 0\n",
    "   \\end{cases} \\Rightarrow \n",
    "   \\begin{cases}\n",
    "    5-6m-3b = 0 \\\\\n",
    "    11-14m -6b = 0\n",
    "   \\end{cases} \\Rightarrow  $$\n",
    "最优解：\n",
    "$$ \\begin{cases}\n",
    "    m = \\frac{1}{2} \\\\\n",
    "    b = \\frac{2}{3}\n",
    "   \\end{cases} $$\n"
   ]
  },
  {
   "cell_type": "markdown",
   "metadata": {},
   "source": [
    "### 3.3.3 将方程组写成矩阵形式\n",
    "\n",
    "我们的二元二次方程组可以用更简洁的矩阵形式表达，将方程组写成矩阵形式更有利于我们使用 Gaussian Jordan 消元法求解。\n",
    "\n",
    "请证明 \n",
    "$$\n",
    "\\begin{bmatrix}\n",
    "    \\frac{\\partial E}{\\partial m} \\\\\n",
    "    \\frac{\\partial E}{\\partial b} \n",
    "\\end{bmatrix} = X^TXh - X^TY\n",
    "$$\n",
    "\n",
    "其中向量 $Y$, 矩阵 $X$ 和 向量 $h$ 分别为 :\n",
    "$$\n",
    "Y =  \\begin{bmatrix}\n",
    "    y_1 \\\\\n",
    "    y_2 \\\\\n",
    "    ... \\\\\n",
    "    y_n\n",
    "\\end{bmatrix}\n",
    ",\n",
    "X =  \\begin{bmatrix}\n",
    "    x_1 & 1 \\\\\n",
    "    x_2 & 1\\\\\n",
    "    ... & ...\\\\\n",
    "    x_n & 1 \\\\\n",
    "\\end{bmatrix},\n",
    "h =  \\begin{bmatrix}\n",
    "    m \\\\\n",
    "    b \\\\\n",
    "\\end{bmatrix}\n",
    "$$"
   ]
  },
  {
   "cell_type": "markdown",
   "metadata": {},
   "source": [
    "TODO 证明:\n",
    "\n",
    "$$ X^T = \\begin{bmatrix}\n",
    "    x_1 & x_2 & ... & x_n \\\\\n",
    "    1 & 1 & ... & 1\\end{bmatrix} $$\n",
    "$$ Y = \\begin{bmatrix} y_1 \\ y_2 \\ ... \\ y_n \\end{bmatrix} $$\n",
    "\n",
    "$$X =  \\begin{bmatrix}\n",
    "    x_1 & 1 \\\\\n",
    "    x_2 & 1\\\\\n",
    "    ... & ...\\\\\n",
    "    x_n & 1 \\\\\n",
    "\\end{bmatrix},\n",
    "h =  \\begin{bmatrix}\n",
    "    m \\\\\n",
    "    b \\\\\n",
    "\\end{bmatrix}$$ \n",
    "\n",
    "$$ X^TX = \\begin{bmatrix} \n",
    "           \\sum_{i=1}^{n}{x_i^2} & \\sum_{i=1}^{n}{x_i} \\\\\n",
    "           \\sum_{i=1}^{n}{x_i} & n\n",
    "          \\end{bmatrix}, $$\n",
    "\n",
    "$$ X^TXh = \\begin{bmatrix}\n",
    "           m\\sum_{i=1}^{n}{x_i^2} + b\\sum_{i=1}^{n}{x_i} \\\\\n",
    "           m\\sum_{i=1}^{n}{x_i} + nb\n",
    "        \\end{bmatrix} $$\n",
    "\n",
    "$$ X^TY = \\begin{bmatrix}\n",
    "          \\sum_{i=1}^{n}{x_iy_i} \\\\\n",
    "          \\sum_{i=1}^{n}{y_i}\n",
    "          \\end{bmatrix}$$\n",
    "\n",
    "$$ X^TXh - X^TY = \\begin{bmatrix}\n",
    "                    m\\sum_{i=1}^{n}{x_i^2} + b\\sum_{i=1}^{n}{x_i} - \\sum_{i=1}^{n}{x_iy_i} \\\\\n",
    "                    m\\sum_{i=1}^{n}{x_i} + nb - \\sum_{i=1}^{n}{y_i}\n",
    "                  \\end{bmatrix}\n",
    "                = \\begin{bmatrix}\n",
    "                   \\sum_{i=1}^{n}{mx_i^2 +bx_i - x_iy_i} \\\\\n",
    "                   \\sum_{i=1}^{n}{mx_i + b - y_i}\n",
    "                  \\end{bmatrix} \n",
    "                = \\begin{bmatrix}\n",
    "                   \\sum_{i=1}^{n}{x_i(mx_i + b -y_i)} \\\\\n",
    "                   \\sum_{i=1}^{n}{mx_i + b - y_i}\n",
    "                  \\end{bmatrix} $$\n",
    "$$ y_i = mx_i + b \\Rightarrow mx_i + b - y_i = 0 \\Rightarrow X^TXh - X^TY = \\begin{bmatrix} 0 \\\\ 0 \\end{bmatrix} = 0 $$\n",
    "                \n",
    "\n",
    "\n"
   ]
  },
  {
   "cell_type": "markdown",
   "metadata": {},
   "source": [
    "至此我们知道，通过求解方程 $X^TXh = X^TY$ 来找到最优参数。这个方程十分重要，他有一个名字叫做 **Normal Equation**，也有直观的几何意义。你可以在 [子空间投影](http://open.163.com/movie/2010/11/J/U/M6V0BQC4M_M6V2AJLJU.html) 和 [投影矩阵与最小二乘](http://open.163.com/movie/2010/11/P/U/M6V0BQC4M_M6V2AOJPU.html) 看到更多关于这个方程的内容。"
   ]
  },
  {
   "cell_type": "markdown",
   "metadata": {},
   "source": [
    "### 3.4 求解 $X^TXh = X^TY$ \n",
    "\n",
    "在3.3 中，我们知道线性回归问题等价于求解 $X^TXh = X^TY$ (如果你选择不做3.3，就勇敢的相信吧，哈哈)"
   ]
  },
  {
   "cell_type": "code",
   "execution_count": 291,
   "metadata": {},
   "outputs": [
    {
     "name": "stdout",
     "output_type": "stream",
     "text": [
      "2.37596251762 6.7650565433\n"
     ]
    }
   ],
   "source": [
    "# TODO 实现线性回归\n",
    "'''\n",
    "参数：X, Y\n",
    "返回：m，b\n",
    "'''\n",
    "def linearRegression(X,Y):       \n",
    "    n = len(X)\n",
    "    Yn = []\n",
    "    for i in range(n):\n",
    "        l =[]\n",
    "        l.append(Y[i])\n",
    "        Yn.append(l)\n",
    "    Xn = []\n",
    "    for i in range(n):\n",
    "        m = []\n",
    "        m.append(X[i])\n",
    "        m.append(1)\n",
    "        Xn.append(m)\n",
    "        \n",
    "    Xn_ = transpose(Xn)\n",
    "    A = matxMultiply(Xn_, Xn)\n",
    "    B = matxMultiply(Xn_, Yn)\n",
    "    \n",
    "    h = gj_Solve(A, B, decPts=4, epsilon = 1.0e-16)\n",
    "    m = h[0][0]\n",
    "    b = h[1][0]\n",
    "    return m,b\n",
    "\n",
    "\n",
    "m,b = linearRegression(X,Y)\n",
    "print m,b"
   ]
  },
  {
   "cell_type": "markdown",
   "metadata": {},
   "source": [
    "你求得的回归结果是什么？\n",
    "请使用运行以下代码将它画出来。"
   ]
  },
  {
   "cell_type": "code",
   "execution_count": 292,
   "metadata": {},
   "outputs": [
    {
     "data": {
      "image/png": "[encoded data removed]",
      "text/plain": [
       "<matplotlib.figure.Figure at 0x1178f1950>"
      ]
     },
     "metadata": {},
     "output_type": "display_data"
    }
   ],
   "source": [
    "# 请不要修改下面的代码\n",
    "x1,x2 = -5,5\n",
    "y1,y2 = x1*m+b, x2*m+b\n",
    "\n",
    "plt.xlim((-5,5))\n",
    "plt.xlabel('x',fontsize=18)\n",
    "plt.ylabel('y',fontsize=18)\n",
    "plt.scatter(X,Y,c='b')\n",
    "plt.plot((x1,x2),(y1,y2),'r')\n",
    "plt.text(1,2,'y = {m}x + {b}'.format(m=m,b=b))\n",
    "plt.show()"
   ]
  },
  {
   "cell_type": "markdown",
   "metadata": {},
   "source": [
    "你求得的回归结果对当前数据集的MSE是多少？"
   ]
  },
  {
   "cell_type": "code",
   "execution_count": 293,
   "metadata": {},
   "outputs": [
    {
     "data": {
      "text/plain": [
       "0.7732860240235925"
      ]
     },
     "execution_count": 293,
     "metadata": {},
     "output_type": "execute_result"
    }
   ],
   "source": [
    "calculateMSE(X,Y,m,b)"
   ]
  }
 ],
 "metadata": {
  "anaconda-cloud": {},
  "celltoolbar": "Raw Cell Format",
  "kernelspec": {
   "display_name": "Python 2",
   "language": "python",
   "name": "python2"
  },
  "language_info": {
   "codemirror_mode": {
    "name": "ipython",
    "version": 2
   },
   "file_extension": ".py",
   "mimetype": "text/x-python",
   "name": "python",
   "nbconvert_exporter": "python",
   "pygments_lexer": "ipython2",
   "version": "2.7.13"
  }
 },
 "nbformat": 4,
 "nbformat_minor": 2
}
